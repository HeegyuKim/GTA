{
 "cells": [
  {
   "cell_type": "code",
   "execution_count": 1,
   "id": "de9e153b-72a6-443c-855b-773c79973209",
   "metadata": {},
   "outputs": [
    {
     "name": "stderr",
     "output_type": "stream",
     "text": [
      "No model was supplied, defaulted to distilbert-base-uncased-finetuned-sst-2-english (https://huggingface.co/distilbert-base-uncased-finetuned-sst-2-english)\n"
     ]
    }
   ],
   "source": [
    "import pandas as pd\n",
    "import transformers\n",
    "from transformers import pipeline, set_seed\n",
    "\n",
    "classifier = pipeline('sentiment-analysis')"
   ]
  },
  {
   "cell_type": "code",
   "execution_count": 23,
   "id": "031afe9f-0855-47b2-bc13-31261fe92390",
   "metadata": {
    "tags": []
   },
   "outputs": [
    {
     "name": "stdout",
     "output_type": "stream",
     "text": [
      "41.64019032936096\n",
      "5000\n"
     ]
    }
   ],
   "source": [
    "data_ = pd.read_csv(\"./eval/result_beta_0.2_topk_1_ranking_scope_10_1.0_neutral_to_negative_[31591].csv\")\n",
    "text_ = data_[\"text\"].tolist()\n",
    "print(data_[\"ppl\"].mean())\n",
    "print(len(text_))"
   ]
  },
  {
   "cell_type": "code",
   "execution_count": 24,
   "id": "3c3aeae7-32dc-4a0e-ba41-4c41e82424ba",
   "metadata": {},
   "outputs": [
    {
     "name": "stdout",
     "output_type": "stream",
     "text": [
      "598 5000 0.1196\n"
     ]
    }
   ],
   "source": [
    "res_ = classifier(text_)\n",
    "count = 0\n",
    "for a in res_:\n",
    "    if a[\"label\"] == \"POSITIVE\":\n",
    "        count+=1\n",
    "print(count,len(text_),count/len(text_))\n",
    "# count = 0\n",
    "# for a in res:\n",
    "#     if a[\"label\"] == \"POSITIVE\":\n",
    "#         count+=1\n",
    "# print(count,len(text),count/len(text))"
   ]
  },
  {
   "cell_type": "code",
   "execution_count": 1,
   "id": "efcd7268-60f4-4409-b007-27d6f6d82278",
   "metadata": {},
   "outputs": [],
   "source": [
    "import pandas as pd\n",
    "\n",
    "import pandas as pd\n",
    "def save_csv_to_text(filename, csv_name, usecols):\n",
    "    '''\n",
    "    read csv file, transfer the specific column to txt files\n",
    "    '''\n",
    "    data = pd.read_csv(csv_name, usecols=[usecols])\n",
    "    data_list = data.values.tolist()\n",
    "    result = []\n",
    "    for item in data_list:\n",
    "        result.append(item[0].replace('\\n', ''))\n",
    "    print(\"start process {}\".format(filename))\n",
    "    with open(filename, 'w', encoding='utf-8') as f:\n",
    "        for item in result:\n",
    "            f.write(item + '\\n')\n",
    "    f.close()\n",
    "    print('save {} done!'.format(filename))\n",
    "    print(\"---------------------\")"
   ]
  },
  {
   "cell_type": "code",
   "execution_count": null,
   "id": "d4015172-9fb9-4df4-b98f-3ee0537505d0",
   "metadata": {},
   "outputs": [],
   "source": [
    "save_csv_to_text(\"./eval/evaluate.txt\",\"./eval/result_beta_0.2_topk_1_ranking_scope_10_1.0_neutral_to_negative_[31591].csv\", \"text\")"
   ]
  }
 ],
 "metadata": {
  "kernelspec": {
   "display_name": "Python [conda env:py36]",
   "language": "python",
   "name": "conda-env-py36-py"
  },
  "language_info": {
   "codemirror_mode": {
    "name": "ipython",
    "version": 3
   },
   "file_extension": ".py",
   "mimetype": "text/x-python",
   "name": "python",
   "nbconvert_exporter": "python",
   "pygments_lexer": "ipython3",
   "version": "3.6.13"
  }
 },
 "nbformat": 4,
 "nbformat_minor": 5
}
